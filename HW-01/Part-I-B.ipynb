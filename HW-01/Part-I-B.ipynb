{
 "cells": [
  {
   "cell_type": "markdown",
   "metadata": {},
   "source": [
    "## The following are a set of problems related to sets and functions.\n",
    "\n",
    "### (a) Let $\\Omega$ be a nonempty set. For $A, B \\subset \\Omega$, define there \"symmetric difference\" as $A\\circ B =(A-B)\\cup(B-A)$. Prove that for subset $A,B,C \\subset \\Omega,$\n",
    "\n",
    "### $$\\text{(1) } A \\circ (B \\circ C) = (A \\circ B) \\circ C$$\n",
    "\n",
    "### $$\\text{(2) } A \\cap (B \\circ C) = (A \\cap B) \\circ (A \\cap C)$$\n",
    "\n",
    "### Also, prove that $A = \\phi \\iff B = B \\circ A \\text{ for all } B\\subset \\Omega$. Finally, can the equality $A \\cup (B \\circ C) = (A \\cup B) \\circ (A \\cup C)$ be ture?\n",
    "\n",
    "---\n"
   ]
  },
  {
   "cell_type": "markdown",
   "metadata": {
    "collapsed": true
   },
   "source": [
    "---\n",
    "\n",
    "## The following are a set of problems related to sets and functions.\n",
    "\n",
    "### (a) Let $\\Omega$ be a nonempty set. For $A, B \\subset \\Omega$, define there \"symmetric difference\" as $A\\circ B =(A-B)\\cup(B-A)$. Prove that for subset $A,B,C \\subset \\Omega,$\n",
    "\n",
    "### $$\\text{(1) } A \\circ (B \\circ C) = (A \\circ B) \\circ C$$\n",
    "\n",
    "### $$\\text{(2) } A \\cap (B \\circ C) = (A \\cap B) \\circ (A \\cap C)$$\n",
    "\n",
    "### Also, prove that $A = \\phi \\iff B = B \\circ A \\text{ for all } B\\subset \\Omega$. Finally, can the equality $A \\cup (B \\circ C) = (A \\cup B) \\circ (A \\cup C)$ be ture?\n",
    "\n",
    "---\n",
    "\n",
    "(1)\n",
    "\n",
    "First, we have this equality, $\\forall A,B,C,D \\subset \\Omega$\n",
    "\n",
    "$$\\begin{array}\\\\\n",
    "(A \\cup B) \\cap (C \\cup D) & = & ((A \\cup B) \\cap C) \\cup ((A \\cup B) \\cap D) \\\\\n",
    "& = & (A \\cap C) \\cup (B \\cap C) \\cup (A \\cap D) \\cup (B \\cap D) & \\cdots \\cdots \\cdots \\text{(1)}\n",
    "\\end{array}\n",
    "$$\n",
    "\n",
    "Return to what we want,\n",
    "\n",
    "$$\\begin{array}\\\\\n",
    "A \\circ (B \\circ C) & = & A \\circ ((B - C) \\cup (C - B))\\\\\n",
    "                    & = & (A - ((B - C) \\cup (C - B))) \\cup (((B - C) \\cup (C - B))-A) \\\\\n",
    "                    & = & ((A-(B-C)) \\cap (A-(C-B))) \\cup (((B-C)-A) \\cup ((C - B)-A))\\\\\n",
    "                    & = & ((A \\cap (B' \\cup C)) \\cap (A \\cap (C' \\cup B))) \\cup (B \\cap C' \\cap A') \\cup (C \\cap B' \\cap A')\\\\\n",
    "                    \\\\\n",
    "                    & = & (((A \\cap B') \\cup (A \\cap C)) \\cap ((A \\cap C') \\cup (A \\cap B))) \\\\\n",
    "                    &   & \\cup (B \\cap C' \\cap A') \\\\\n",
    "                    &   & \\cup (C \\cap B' \\cap A')\\\\\n",
    "                    \\\\\n",
    "                    & = & \\cup (A \\cap B \\cap C) \\\\\n",
    "                    &   & \\cup (A \\cap B' \\cap C') \\\\\n",
    "                    &   & \\cup (B \\cap C' \\cap A') \\\\\n",
    "                    &   & \\cup (C \\cap A' \\cap B') \\text{ , apply (1)} \\\\\n",
    "                    \\\\\n",
    "                    & = & C \\circ (A \\circ B) \\text{ , since this foumula is symmetric for } A,B,C \\\\\n",
    "                    & = & (A \\circ B) \\circ C\n",
    "\\end{array}\n",
    "$$"
   ]
  }
 ],
 "metadata": {
  "kernelspec": {
   "display_name": "Python 3",
   "language": "python",
   "name": "python3"
  },
  "language_info": {
   "codemirror_mode": {
    "name": "ipython",
    "version": 3
   },
   "file_extension": ".py",
   "mimetype": "text/x-python",
   "name": "python",
   "nbconvert_exporter": "python",
   "pygments_lexer": "ipython3",
   "version": "3.6.1"
  }
 },
 "nbformat": 4,
 "nbformat_minor": 2
}
