{
 "cells": [
  {
   "cell_type": "markdown",
   "metadata": {},
   "source": [
    "## The following are some problems relating to simple logical deduction.\n",
    "\n",
    "### (a) If $A$ is elected, then $B$ will resign. If $C$ is elected, then $B$ will not resign. However, if $A$ is elected, then $C$ will not be elected. Therefore $B$ will resign. Is the argument valid.\n",
    "\n",
    "### (b) Let $P$, $Q$ and $R$ are three statements. What kind of the connectives should you put in the following question (?) position so that the composite statement becomes a valid conclusion?\n",
    "$$((P\\Rightarrow \\neg Q)\\wedge (R \\Rightarrow Q)) \\Rightarrow P?R$$"
   ]
  },
  {
   "cell_type": "markdown",
   "metadata": {
    "collapsed": true
   },
   "source": [
    "---\n",
    "\n",
    "### (a) If $A$ is elected, then $B$ will resign. If $C$ is elected, then $B$ will not resign. However, if $A$ is elected, then $C$ will not be elected. Therefore $B$ will resign. Is the argument valid.\n",
    "\n",
    "No, this argument is not valid.\n",
    "\n",
    "Set $P$ : $C$ is elected, $Q$ : $B$ will resign.\n",
    "\n",
    "We have $P \\Rightarrow \\neg Q$, but we can't get any infomation from $\\neg P$.\n",
    "\n",
    "In this case, $B$ must resign if $A$ is elected.\n"
   ]
  },
  {
   "cell_type": "markdown",
   "metadata": {},
   "source": [
    "---\n",
    "\n",
    "### (b) Let $P$, $Q$ and $R$ are three statements. What kind of the connectives should you put in the following question (?) position so that the composite statement becomes a valid conclusion?\n",
    "$$((P\\Rightarrow \\neg Q)\\wedge (R \\Rightarrow Q)) \\Rightarrow P?R$$\n",
    "\n",
    "Since $(R \\Rightarrow Q) \\Longleftrightarrow (\\neg Q \\Rightarrow \\neg R)$\n",
    "\n",
    "We can get $P\\Rightarrow \\neg Q \\Rightarrow \\neg R$,\n",
    "\n",
    "that is $P \\rightarrow \\leftarrow R$\n",
    "\n"
   ]
  },
  {
   "cell_type": "code",
   "execution_count": null,
   "metadata": {
    "collapsed": true
   },
   "outputs": [],
   "source": []
  }
 ],
 "metadata": {
  "kernelspec": {
   "display_name": "Python 3",
   "language": "python",
   "name": "python3"
  },
  "language_info": {
   "codemirror_mode": {
    "name": "ipython",
    "version": 3
   },
   "file_extension": ".py",
   "mimetype": "text/x-python",
   "name": "python",
   "nbconvert_exporter": "python",
   "pygments_lexer": "ipython3",
   "version": "3.5.2"
  }
 },
 "nbformat": 4,
 "nbformat_minor": 2
}
