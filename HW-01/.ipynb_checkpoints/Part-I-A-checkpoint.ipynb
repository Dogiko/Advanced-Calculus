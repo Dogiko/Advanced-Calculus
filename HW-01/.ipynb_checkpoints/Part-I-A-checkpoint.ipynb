{
 "cells": [
  {
   "cell_type": "markdown",
   "metadata": {},
   "source": [
    "## The following are some problems relating to simple logical deduction.\n",
    "\n",
    "### (a) If $A$ is elected, then $B$ will resign. If $C$ is elected, then $B$ will not resign. However, if $A$ is elected, then $C$ will not be elected. Therefore $B$ will resign. Is the argument valid.\n",
    "\n",
    "### (b) Let $P$, $Q$ and $R$ are three statements. What kind of the connectives should you put in the following question (?) position so that the composite statement becomes a valid conclusion?\n",
    "$$((P\\implies \\neg Q)\\wedge (R \\implies Q)) \\implies P?R$$\n",
    "\n",
    "### (c) Let $f : A \\implies B$ be a function. use the logical symbols (the quantifiers connectives, etc) to express that (1) $f$ is one-to-one (2) $f$ is onto, and (3) $f$ is one-to-one and onto. More over, write down their negtive statements.\n",
    "\n",
    "---"
   ]
  },
  {
   "cell_type": "markdown",
   "metadata": {
    "collapsed": true
   },
   "source": [
    "---\n",
    "\n",
    "### (a) If $A$ is elected, then $B$ will resign. If $C$ is elected, then $B$ will not resign. However, if $A$ is elected, then $C$ will not be elected. Therefore $B$ will resign. Is the argument valid.\n",
    "\n",
    "---\n",
    "\n",
    "No, this argument is not valid.\n",
    "\n",
    "Set $P$ : $C$ is elected, $Q$ : $B$ will resign.\n",
    "\n",
    "We have $P \\implies \\neg Q$, but we can't get any infomation from $\\neg P$.\n",
    "\n",
    "In this case, $B$ must resign if $A$ is elected.\n"
   ]
  },
  {
   "cell_type": "markdown",
   "metadata": {},
   "source": [
    "---\n",
    "\n",
    "### (b) Let $P$, $Q$ and $R$ are three statements. What kind of the connectives should you put in the following question (?) position so that the composite statement becomes a valid conclusion?\n",
    "$$((P\\implies \\neg Q)\\wedge (R \\implies Q)) \\implies P?R$$\n",
    "\n",
    "---\n",
    "\n",
    "Since $(R \\implies Q) \\Longleftrightarrow (\\neg Q \\implies \\neg R)$\n",
    "\n",
    "We can get $P\\implies \\neg Q \\implies \\neg R$,\n",
    "\n",
    "that is $P \\implies \\neg R$\n"
   ]
  },
  {
   "cell_type": "markdown",
   "metadata": {
    "collapsed": true
   },
   "source": [
    "---\n",
    "\n",
    "### (c) Let $f : A \\rightarrow B$ be a function. use the logical symbols (the quantifiers connectives, etc) to express that (1) $f$ is one-to-one (2) $f$ is onto, and (3) $f$ is one-to-one and onto. More over, write down their negtive statements.\n",
    "\n",
    "---\n",
    "\n",
    "(1) \n",
    "\n",
    "$f \\text{ is one-to-one } \\iff (\\forall x, y \\in A,  (x\\neq y \\wedge f(x) \\neq f(y)))$\n",
    "\n",
    "$f \\text{ is not one-to-one } \\iff (\\exists x, y \\in A,  (x\\neq y \\wedge f(x) = f(y)))$\n",
    "\n",
    "---\n",
    "\n",
    "(2)\n",
    "\n",
    "$f \\text{ is onto } \\iff (\\forall u \\in B, (\\exists x\\in A, f(x) = u))$\n",
    "\n",
    "$f \\text{ is not onto } \\iff (\\exists u \\in B,  (\\forall x\\in A, f(x) \\neq u))$\n",
    "\n",
    "---\n",
    "\n",
    "(3)\n",
    "\n",
    "$f \\text{ is one-to-one and onto } \\iff (\\forall x, y \\in A,  (x\\neq y \\wedge f(x) \\neq f(y))) \\wedge (\\forall u \\in B, (\\exists x\\in A, f(x) = u))$\n",
    "\n",
    "$f \\text{ is not (one-to-one and onto) } \\iff  (\\exists x, y \\in A,  (x\\neq y \\wedge f(x) = f(y))) \\vee (\\exists u \\in B,  (\\forall x\\in A, f(x) \\neq u))$"
   ]
  }
 ],
 "metadata": {
  "kernelspec": {
   "display_name": "Python 3",
   "language": "python",
   "name": "python3"
  },
  "language_info": {
   "codemirror_mode": {
    "name": "ipython",
    "version": 3
   },
   "file_extension": ".py",
   "mimetype": "text/x-python",
   "name": "python",
   "nbconvert_exporter": "python",
   "pygments_lexer": "ipython3",
   "version": "3.6.1"
  }
 },
 "nbformat": 4,
 "nbformat_minor": 2
}
