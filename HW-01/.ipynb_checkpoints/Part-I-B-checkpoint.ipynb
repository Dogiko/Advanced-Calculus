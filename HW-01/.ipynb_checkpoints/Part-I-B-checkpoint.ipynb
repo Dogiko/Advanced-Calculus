{
 "cells": [
  {
   "cell_type": "markdown",
   "metadata": {},
   "source": [
    "## The following are a set of problems related to sets and functions.\n",
    "\n",
    "### (a) Let $\\Omega$ be a nonempty set. For $A, B \\subset \\Omega$, define there \"symmetric difference\" as $A\\circ B =(A-B)\\cup(B-A)$. Prove that for subset $A,B,C \\subset \\Omega,$\n",
    "\n",
    "### $$\\text{(1) } A \\circ (B \\circ C) = (A \\circ B) \\circ C$$\n",
    "\n",
    "### $$\\text{(2) } A \\cap (B \\circ C) = (A \\cap B) \\circ (A \\cap C)$$\n",
    "\n",
    "### Also, prove that $A = \\phi \\iff B = B \\circ A \\text{ for all } B\\subset \\Omega$. Finally, can the equality $A \\cup (B \\circ C) = (A \\cup B) \\circ (A \\cup C)$ be ture?\n",
    "\n",
    "---\n"
   ]
  },
  {
   "cell_type": "markdown",
   "metadata": {
    "collapsed": true
   },
   "source": [
    "---\n",
    "\n",
    "## The following are a set of problems related to sets and functions.\n",
    "\n",
    "### (a) Let $\\Omega$ be a nonempty set. For $A, B \\subset \\Omega$, define there \"symmetric difference\" as $A\\circ B =(A-B)\\cup(B-A)$. Prove that for subset $A,B,C \\subset \\Omega,$\n",
    "\n",
    "### $$\\text{(1) } A \\circ (B \\circ C) = (A \\circ B) \\circ C$$\n",
    "\n",
    "### $$\\text{(2) } A \\cap (B \\circ C) = (A \\cap B) \\circ (A \\cap C)$$\n",
    "\n",
    "### Also, prove that $A = \\phi \\iff B = B \\circ A \\text{ for all } B\\subset \\Omega$. Finally, can the equality $A \\cup (B \\circ C) = (A \\cup B) \\circ (A \\cup C)$ be ture?\n",
    "\n",
    "---\n",
    "\n",
    "(1)\n",
    "\n",
    "$$\\begin{array}\\\\\n",
    "A \\circ (B \\circ C) & = & A \\circ ((B - C) \\cup (C - B))\\\\\n",
    "                    & = & (A - ((B - C) \\cup (C - B))) \\cup (((B - C) \\cup (C - B))-A) \\\\\n",
    "                    & = & ((A-(B-C)) \\cap (A-(C-B))) \\cup (((B-C)-A) \\cup ((C - B)-A))\\\\\n",
    "\\end{array}\n",
    "$$"
   ]
  },
  {
   "cell_type": "code",
   "execution_count": null,
   "metadata": {
    "collapsed": true
   },
   "outputs": [],
   "source": []
  }
 ],
 "metadata": {
  "kernelspec": {
   "display_name": "Python 3",
   "language": "python",
   "name": "python3"
  },
  "language_info": {
   "codemirror_mode": {
    "name": "ipython",
    "version": 3
   },
   "file_extension": ".py",
   "mimetype": "text/x-python",
   "name": "python",
   "nbconvert_exporter": "python",
   "pygments_lexer": "ipython3",
   "version": "3.6.1"
  }
 },
 "nbformat": 4,
 "nbformat_minor": 2
}
