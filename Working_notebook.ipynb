{
 "cells": [
  {
   "cell_type": "markdown",
   "metadata": {},
   "source": [
    "# HW 01 Part I\n",
    "\n",
    "## The following are some problems relating to simple logical deduction.\n",
    "### (a) If $A$ is elected, then $B$ will resign. If $C$ is elected, then $B$ will not resign. However, if $A$ is elected, then $C$ will not be elected. Therefore $B$ will resign. Is the argument valid."
   ]
  },
  {
   "cell_type": "markdown",
   "metadata": {},
   "source": [
    "---\n",
    "\n",
    "### (a) If $A$ is elected, then $B$ will resign. If $C$ is elected, then $B$ will not resign. However, if $A$ is elected, then $C$ will not be elected. Therefore $B$ will resign. Is the argument valid.\n",
    "\n",
    "No this argument is not valid.\n",
    "\n",
    "Set $P$ : $C$ is elected, $Q$ : $B$ will resign.\n",
    "\n",
    "We have $P \\rightarrow \\neg Q$, but we can't get any infomation from $\\neg P$.\n",
    "\n",
    "In this case, $B$ must resign if $A$ is elected.\n"
   ]
  },
  {
   "cell_type": "markdown",
   "metadata": {},
   "source": [
    "---"
   ]
  },
  {
   "cell_type": "code",
   "execution_count": null,
   "metadata": {
    "collapsed": true
   },
   "outputs": [],
   "source": []
  }
 ],
 "metadata": {
  "kernelspec": {
   "display_name": "Python 3",
   "language": "python",
   "name": "python3"
  },
  "language_info": {
   "codemirror_mode": {
    "name": "ipython",
    "version": 3
   },
   "file_extension": ".py",
   "mimetype": "text/x-python",
   "name": "python",
   "nbconvert_exporter": "python",
   "pygments_lexer": "ipython3",
   "version": "3.5.2"
  }
 },
 "nbformat": 4,
 "nbformat_minor": 2
}
